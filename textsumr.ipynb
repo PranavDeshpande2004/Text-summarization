{
 "cells": [
  {
   "cell_type": "code",
   "execution_count": 1,
   "id": "0d1c9a97-24e3-4d34-8e79-3acfe1e1a91d",
   "metadata": {},
   "outputs": [],
   "source": [
    "import os\n",
    "import getpass\n",
    "\n",
    "# Set your Groq API key\n",
    "if \"GROQ_API_KEY\" not in os.environ:\n",
    "    os.environ[\"GROQ_API_KEY\"] = getpass.getpass(\"Enter your Groq API key \")"
   ]
  },
  {
   "cell_type": "code",
   "execution_count": 2,
   "id": "f203de75-9263-45c3-bb88-20f6c3f978eb",
   "metadata": {},
   "outputs": [
    {
     "name": "stdout",
     "output_type": "stream",
     "text": [
      "I'd be happy to help summarize text for you. Please provide the text you'd like me to summarize, and let me know what kind of summary you're looking for (e.g. brief summary, main points, key takeaways, etc.).\n"
     ]
    }
   ],
   "source": [
    "from langchain_groq import ChatGroq\n",
    "\n",
    "# Initialize the LLaMA-3 model\n",
    "llm = ChatGroq(\n",
    "    model=\"llama3-8b-8192\",  # You can also use \"llama3-70b-8192\" for a larger model\n",
    "    temperature=0,           # Low temperature for deterministic output\n",
    "    max_tokens=500           # Limit the output length\n",
    ")\n",
    "\n",
    "# Test the model with a simple prompt\n",
    "response = llm.invoke(\"Hello, can you summarize text?\")\n",
    "print(response.content)"
   ]
  },
  {
   "cell_type": "code",
   "execution_count": 4,
   "id": "87c76cf5-8af7-4980-904d-c0c315d77ed7",
   "metadata": {},
   "outputs": [],
   "source": [
    "from langchain_core.prompts import ChatPromptTemplate\n",
    "\n",
    "# Define the summarization prompt\n",
    "prompt = ChatPromptTemplate.from_template(\n",
    "    \"Summarize the following text in a concise manner:\\n\\n{input_text}\"\n",
    ")"
   ]
  },
  {
   "cell_type": "code",
   "execution_count": 9,
   "id": "ada1b179-0ee3-4cd3-b9dc-d0fbb88abc45",
   "metadata": {},
   "outputs": [],
   "source": [
    "from langchain.chains import LLMChain\n",
    "\n",
    "# Create the summarization chain\n",
    "summarization_chain = LLMChain(\n",
    "    llm=llm,\n",
    "    prompt=prompt\n",
    ")\n"
   ]
  },
  {
   "cell_type": "code",
   "execution_count": 12,
   "id": "62a58ae8-887e-44a7-8b74-42baf0b9ba88",
   "metadata": {},
   "outputs": [
    {
     "name": "stdout",
     "output_type": "stream",
     "text": [
      "Summary:\n",
      "Here is a concise summary of the text:\n",
      "\n",
      "Virat Kohli is a highly acclaimed cricketer known for his passion, determination, and aggressive playing style. He rose to fame with his exceptional talent and dedication, leading the Indian U-19 team to victory in the 2008 World Cup and later becoming the captain of the Indian national team. Kohli's batting prowess is unmatched, with numerous records to his name, including being one of the fastest batsmen to score 8,000, 9,000, and 10,000 runs in ODIs. He is also a successful leader, transforming the Indian team into a dominant force in Test cricket. Off the field, Kohli is known for his philanthropic efforts, strong opinions on social issues, and commitment to fitness, inspiring young cricketers worldwide with his relentless hard work and self-belief.\n"
     ]
    }
   ],
   "source": [
    "# Sample text to summarize\n",
    "text_to_summarize = \"\"\"\n",
    "Virat Kohli is one of the greatest cricketers of all time, known for his passion, determination, and aggressive playing style. Born on November 5, 1988, in Delhi, India, he rose through the ranks with his exceptional talent and unwavering dedication to the game. His journey from leading the Indian U-19 team to victory in the 2008 World Cup to becoming the captain of the Indian national team is nothing short of inspiring.\n",
    "\n",
    "Kohli’s batting prowess is unmatched, making him one of the most consistent run-scorers in modern cricket. His ability to chase down targets, play under pressure, and adapt to different formats has set him apart from his peers. With numerous records to his name, including being one of the fastest batsmen to score 8,000, 9,000, and 10,000 runs in ODIs, Kohli has cemented his legacy in cricketing history. His technique, combined with an intense work ethic, makes him a formidable force on the field.\n",
    "\n",
    "Beyond his statistics, Kohli’s leadership has been a defining aspect of his career. As captain, he transformed the Indian team into a dominant force, especially in Test cricket, where India achieved historic overseas victories under his guidance. His aggressive yet tactical approach motivated players to perform at their best, and his fitness revolutionized Indian cricket, setting new benchmarks for athleticism.\n",
    "\n",
    "Off the field, Virat Kohli is known for his philanthropic efforts, strong opinions on social issues, and commitment to fitness. He has also been an inspiration for young cricketers worldwide, showing that success comes from relentless hard work and self-belief. Whether it's his aggressive celebrations, match-winning knocks, or inspiring leadership, Kohli remains a true icon of Indian cricket, continuing to inspire millions with his passion and dedication.\n",
    "\"\"\"\n",
    "\n",
    "# Run the summarization\n",
    "summary = summarization_chain.run(input_text=text_to_summarize)\n",
    "print(\"Summary:\")\n",
    "print(summary)"
   ]
  },
  {
   "cell_type": "code",
   "execution_count": null,
   "id": "3c5bca0f-49f7-486a-b8e0-0f1a71cbec62",
   "metadata": {},
   "outputs": [],
   "source": []
  }
 ],
 "metadata": {
  "kernelspec": {
   "display_name": "Python 3",
   "language": "python",
   "name": "python3"
  },
  "language_info": {
   "codemirror_mode": {
    "name": "ipython",
    "version": 3
   },
   "file_extension": ".py",
   "mimetype": "text/x-python",
   "name": "python",
   "nbconvert_exporter": "python",
   "pygments_lexer": "ipython3",
   "version": "3.13.2"
  }
 },
 "nbformat": 4,
 "nbformat_minor": 5
}
